{
  "nbformat": 4,
  "nbformat_minor": 0,
  "metadata": {
    "colab": {
      "provenance": [],
      "authorship_tag": "ABX9TyNurYLfhL8Ghh8oGoIRLcOK",
      "include_colab_link": true
    },
    "kernelspec": {
      "name": "python3",
      "display_name": "Python 3"
    },
    "language_info": {
      "name": "python"
    }
  },
  "cells": [
    {
      "cell_type": "markdown",
      "metadata": {
        "id": "view-in-github",
        "colab_type": "text"
      },
      "source": [
        "<a href=\"https://colab.research.google.com/github/krishnabalajiwork/Ai-Hydroponics/blob/main/Linear%20Regression.ipynb\" target=\"_parent\"><img src=\"https://colab.research.google.com/assets/colab-badge.svg\" alt=\"Open In Colab\"/></a>"
      ]
    },
    {
      "cell_type": "code",
      "execution_count": 1,
      "metadata": {
        "colab": {
          "base_uri": "https://localhost:8080/"
        },
        "id": "a1iWTFshl2Hn",
        "outputId": "0a5ad3e1-5f73-4b29-a1fb-a1708ece08ab"
      },
      "outputs": [
        {
          "output_type": "stream",
          "name": "stdout",
          "text": [
            "Enter Plant Age (Days): 25\n",
            "Enter pH Level: 6\n",
            "⏳ Estimated Days to Harvest: 15 days\n",
            "📅 Expected Harvest Day: Day 40\n"
          ]
        }
      ],
      "source": [
        "import pandas as pd\n",
        "import numpy as np\n",
        "from sklearn.linear_model import LinearRegression\n",
        "\n",
        "# Simulate dataset for plant growth based on pH and age\n",
        "data = {\n",
        "    \"Plant Age (Days)\": list(range(1, 43)),  # 1 to 42 days of growth\n",
        "    \"pH Level\": np.round(np.random.uniform(7.9, 8.9, 42), 2)  # Randomized pH values\n",
        "}\n",
        "\n",
        "df = pd.DataFrame(data)\n",
        "\n",
        "# Simulate realistic Days to Harvest based on plant age and pH\n",
        "df[\"Days to Harvest\"] = np.clip(50 - df[\"Plant Age (Days)\"], 7, 20)\n",
        "\n",
        "# Train model\n",
        "X = df[[\"Plant Age (Days)\", \"pH Level\"]]\n",
        "y = df[\"Days to Harvest\"]\n",
        "\n",
        "model = LinearRegression()\n",
        "model.fit(X, y)\n",
        "\n",
        "# Function to predict harvest\n",
        "def predict_harvest(plant_age, ph_level):\n",
        "    if plant_age >= 30:\n",
        "        print(f\"🍽️ The plant is ready to eat! (Age: {plant_age} days)\")\n",
        "        return\n",
        "\n",
        "    input_data = pd.DataFrame({\"Plant Age (Days)\": [plant_age], \"pH Level\": [ph_level]})\n",
        "    days_to_harvest = int(model.predict(input_data)[0])\n",
        "\n",
        "    # Ensure harvest does not exceed Day 50\n",
        "    expected_harvest_day = min(plant_age + days_to_harvest, 50)\n",
        "\n",
        "    print(f\"⏳ Estimated Days to Harvest: {days_to_harvest} days\")\n",
        "    print(f\"📅 Expected Harvest Day: Day {expected_harvest_day}\")\n",
        "\n",
        "# Interactive input\n",
        "if __name__ == \"__main__\":\n",
        "    plant_age = int(input(\"Enter Plant Age (Days): \"))\n",
        "    ph_level = float(input(\"Enter pH Level: \"))\n",
        "    predict_harvest(plant_age, ph_level)\n"
      ]
    }
  ]
}